{
 "cells": [
  {
   "cell_type": "markdown",
   "metadata": {},
   "source": [
    "## Observations and Insights"
   ]
  },
  {
   "cell_type": "markdown",
   "metadata": {},
   "source": [
    "* Comment1\n",
    "* Comment2\n",
    "* Comment3"
   ]
  },
  {
   "cell_type": "markdown",
   "metadata": {},
   "source": [
    "## Dependencies and starter code"
   ]
  },
  {
   "cell_type": "code",
   "execution_count": 23,
   "metadata": {},
   "outputs": [],
   "source": [
    "import matplotlib.pyplot as plt\n",
    "import pandas as pd\n",
    "import numpy as np\n",
    "import scipy.stats as st\n",
    "from scipy.stats import linregress\n",
    "from IPython.display import Markdown as md\n",
    "\n",
    "# Study data files\n",
    "mouse = \"data/Mouse_metadata.csv\"\n",
    "results = \"data/Study_results.csv\"\n",
    "\n",
    "# Read the mouse data and the study results\n",
    "mouse_df = pd.read_csv(mouse)\n",
    "results_df = pd.read_csv(results)"
   ]
  },
  {
   "cell_type": "code",
   "execution_count": 24,
   "metadata": {},
   "outputs": [
    {
     "data": {
      "text/html": [
       "<div>\n",
       "<style scoped>\n",
       "    .dataframe tbody tr th:only-of-type {\n",
       "        vertical-align: middle;\n",
       "    }\n",
       "\n",
       "    .dataframe tbody tr th {\n",
       "        vertical-align: top;\n",
       "    }\n",
       "\n",
       "    .dataframe thead th {\n",
       "        text-align: right;\n",
       "    }\n",
       "</style>\n",
       "<table border=\"1\" class=\"dataframe\">\n",
       "  <thead>\n",
       "    <tr style=\"text-align: right;\">\n",
       "      <th></th>\n",
       "      <th>Mouse ID</th>\n",
       "      <th>Drug Regimen</th>\n",
       "      <th>Sex</th>\n",
       "      <th>Age_months</th>\n",
       "      <th>Weight (g)</th>\n",
       "      <th>Timepoint</th>\n",
       "      <th>Tumor Volume (mm3)</th>\n",
       "      <th>Metastatic Sites</th>\n",
       "    </tr>\n",
       "  </thead>\n",
       "  <tbody>\n",
       "    <tr>\n",
       "      <td>0</td>\n",
       "      <td>k403</td>\n",
       "      <td>Ramicane</td>\n",
       "      <td>Male</td>\n",
       "      <td>21</td>\n",
       "      <td>16</td>\n",
       "      <td>0</td>\n",
       "      <td>45.000000</td>\n",
       "      <td>0</td>\n",
       "    </tr>\n",
       "    <tr>\n",
       "      <td>1</td>\n",
       "      <td>k403</td>\n",
       "      <td>Ramicane</td>\n",
       "      <td>Male</td>\n",
       "      <td>21</td>\n",
       "      <td>16</td>\n",
       "      <td>5</td>\n",
       "      <td>38.825898</td>\n",
       "      <td>0</td>\n",
       "    </tr>\n",
       "    <tr>\n",
       "      <td>2</td>\n",
       "      <td>k403</td>\n",
       "      <td>Ramicane</td>\n",
       "      <td>Male</td>\n",
       "      <td>21</td>\n",
       "      <td>16</td>\n",
       "      <td>10</td>\n",
       "      <td>35.014271</td>\n",
       "      <td>1</td>\n",
       "    </tr>\n",
       "    <tr>\n",
       "      <td>3</td>\n",
       "      <td>k403</td>\n",
       "      <td>Ramicane</td>\n",
       "      <td>Male</td>\n",
       "      <td>21</td>\n",
       "      <td>16</td>\n",
       "      <td>15</td>\n",
       "      <td>34.223992</td>\n",
       "      <td>1</td>\n",
       "    </tr>\n",
       "    <tr>\n",
       "      <td>4</td>\n",
       "      <td>k403</td>\n",
       "      <td>Ramicane</td>\n",
       "      <td>Male</td>\n",
       "      <td>21</td>\n",
       "      <td>16</td>\n",
       "      <td>20</td>\n",
       "      <td>32.997729</td>\n",
       "      <td>1</td>\n",
       "    </tr>\n",
       "  </tbody>\n",
       "</table>\n",
       "</div>"
      ],
      "text/plain": [
       "  Mouse ID Drug Regimen   Sex  Age_months  Weight (g)  Timepoint  \\\n",
       "0     k403     Ramicane  Male          21          16          0   \n",
       "1     k403     Ramicane  Male          21          16          5   \n",
       "2     k403     Ramicane  Male          21          16         10   \n",
       "3     k403     Ramicane  Male          21          16         15   \n",
       "4     k403     Ramicane  Male          21          16         20   \n",
       "\n",
       "   Tumor Volume (mm3)  Metastatic Sites  \n",
       "0           45.000000                 0  \n",
       "1           38.825898                 0  \n",
       "2           35.014271                 1  \n",
       "3           34.223992                 1  \n",
       "4           32.997729                 1  "
      ]
     },
     "execution_count": 24,
     "metadata": {},
     "output_type": "execute_result"
    }
   ],
   "source": [
    "# Combine the data into a single dataset\n",
    "merged_df = pd.merge(mouse_df, results_df, on=\"Mouse ID\", how=\"left\")\n",
    "merged_df.head()"
   ]
  },
  {
   "cell_type": "markdown",
   "metadata": {},
   "source": [
    "## Summary Statistics\n",
    "* Summary statistics of Tumor Volume (mm3) by Drug Regimen"
   ]
  },
  {
   "cell_type": "code",
   "execution_count": 25,
   "metadata": {},
   "outputs": [
    {
     "data": {
      "text/html": [
       "<div>\n",
       "<style scoped>\n",
       "    .dataframe tbody tr th:only-of-type {\n",
       "        vertical-align: middle;\n",
       "    }\n",
       "\n",
       "    .dataframe tbody tr th {\n",
       "        vertical-align: top;\n",
       "    }\n",
       "\n",
       "    .dataframe thead th {\n",
       "        text-align: right;\n",
       "    }\n",
       "</style>\n",
       "<table border=\"1\" class=\"dataframe\">\n",
       "  <thead>\n",
       "    <tr style=\"text-align: right;\">\n",
       "      <th></th>\n",
       "      <th>mean</th>\n",
       "      <th>median</th>\n",
       "      <th>var</th>\n",
       "      <th>std</th>\n",
       "      <th>sem</th>\n",
       "    </tr>\n",
       "    <tr>\n",
       "      <th>Drug Regimen</th>\n",
       "      <th></th>\n",
       "      <th></th>\n",
       "      <th></th>\n",
       "      <th></th>\n",
       "      <th></th>\n",
       "    </tr>\n",
       "  </thead>\n",
       "  <tbody>\n",
       "    <tr>\n",
       "      <td>Capomulin</td>\n",
       "      <td>40.675741</td>\n",
       "      <td>41.557809</td>\n",
       "      <td>24.947764</td>\n",
       "      <td>4.994774</td>\n",
       "      <td>0.329346</td>\n",
       "    </tr>\n",
       "    <tr>\n",
       "      <td>Ceftamin</td>\n",
       "      <td>52.591172</td>\n",
       "      <td>51.776157</td>\n",
       "      <td>39.290177</td>\n",
       "      <td>6.268188</td>\n",
       "      <td>0.469821</td>\n",
       "    </tr>\n",
       "    <tr>\n",
       "      <td>Infubinol</td>\n",
       "      <td>52.884795</td>\n",
       "      <td>51.820584</td>\n",
       "      <td>43.128684</td>\n",
       "      <td>6.567243</td>\n",
       "      <td>0.492236</td>\n",
       "    </tr>\n",
       "    <tr>\n",
       "      <td>Ketapril</td>\n",
       "      <td>55.235638</td>\n",
       "      <td>53.698743</td>\n",
       "      <td>68.553577</td>\n",
       "      <td>8.279709</td>\n",
       "      <td>0.603860</td>\n",
       "    </tr>\n",
       "    <tr>\n",
       "      <td>Naftisol</td>\n",
       "      <td>54.331565</td>\n",
       "      <td>52.509285</td>\n",
       "      <td>66.173479</td>\n",
       "      <td>8.134708</td>\n",
       "      <td>0.596466</td>\n",
       "    </tr>\n",
       "    <tr>\n",
       "      <td>Placebo</td>\n",
       "      <td>54.033581</td>\n",
       "      <td>52.288934</td>\n",
       "      <td>61.168083</td>\n",
       "      <td>7.821003</td>\n",
       "      <td>0.581331</td>\n",
       "    </tr>\n",
       "    <tr>\n",
       "      <td>Propriva</td>\n",
       "      <td>52.322552</td>\n",
       "      <td>50.854632</td>\n",
       "      <td>42.351070</td>\n",
       "      <td>6.507770</td>\n",
       "      <td>0.512884</td>\n",
       "    </tr>\n",
       "    <tr>\n",
       "      <td>Ramicane</td>\n",
       "      <td>40.216745</td>\n",
       "      <td>40.673236</td>\n",
       "      <td>23.486704</td>\n",
       "      <td>4.846308</td>\n",
       "      <td>0.320955</td>\n",
       "    </tr>\n",
       "    <tr>\n",
       "      <td>Stelasyn</td>\n",
       "      <td>54.233149</td>\n",
       "      <td>52.431737</td>\n",
       "      <td>59.450562</td>\n",
       "      <td>7.710419</td>\n",
       "      <td>0.573111</td>\n",
       "    </tr>\n",
       "    <tr>\n",
       "      <td>Zoniferol</td>\n",
       "      <td>53.236507</td>\n",
       "      <td>51.818479</td>\n",
       "      <td>48.533355</td>\n",
       "      <td>6.966589</td>\n",
       "      <td>0.516398</td>\n",
       "    </tr>\n",
       "  </tbody>\n",
       "</table>\n",
       "</div>"
      ],
      "text/plain": [
       "                   mean     median        var       std       sem\n",
       "Drug Regimen                                                     \n",
       "Capomulin     40.675741  41.557809  24.947764  4.994774  0.329346\n",
       "Ceftamin      52.591172  51.776157  39.290177  6.268188  0.469821\n",
       "Infubinol     52.884795  51.820584  43.128684  6.567243  0.492236\n",
       "Ketapril      55.235638  53.698743  68.553577  8.279709  0.603860\n",
       "Naftisol      54.331565  52.509285  66.173479  8.134708  0.596466\n",
       "Placebo       54.033581  52.288934  61.168083  7.821003  0.581331\n",
       "Propriva      52.322552  50.854632  42.351070  6.507770  0.512884\n",
       "Ramicane      40.216745  40.673236  23.486704  4.846308  0.320955\n",
       "Stelasyn      54.233149  52.431737  59.450562  7.710419  0.573111\n",
       "Zoniferol     53.236507  51.818479  48.533355  6.966589  0.516398"
      ]
     },
     "execution_count": 25,
     "metadata": {},
     "output_type": "execute_result"
    }
   ],
   "source": [
    "summary = pd.DataFrame(merged_df.groupby(['Drug Regimen'])[\"Tumor Volume (mm3)\"].agg(['mean', 'median', 'var', 'std', 'sem']))\n",
    "summary"
   ]
  },
  {
   "cell_type": "markdown",
   "metadata": {},
   "source": [
    "## Bar Plots"
   ]
  },
  {
   "cell_type": "code",
   "execution_count": 26,
   "metadata": {},
   "outputs": [],
   "source": [
    "count = pd.DataFrame(merged_df.groupby(['Drug Regimen'])[\"Mouse ID\"].count())\n",
    "count = count[[\"Mouse ID\"]]\n",
    "count.rename(columns={\"Mouse ID\":\"Data Points\"}, inplace=True)"
   ]
  },
  {
   "cell_type": "code",
   "execution_count": 27,
   "metadata": {},
   "outputs": [
    {
     "data": {
      "text/plain": [
       "<matplotlib.axes._subplots.AxesSubplot at 0x26473746388>"
      ]
     },
     "execution_count": 27,
     "metadata": {},
     "output_type": "execute_result"
    },
    {
     "data": {
      "image/png": "[encoded data removed]",
      "text/plain": [
       "<Figure size 432x288 with 1 Axes>"
      ]
     },
     "metadata": {
      "needs_background": "light"
     },
     "output_type": "display_data"
    }
   ],
   "source": [
    "# Generate a bar plot showing number of data points for each treatment regimen using pandas\n",
    "count.plot.bar()"
   ]
  },
  {
   "cell_type": "code",
   "execution_count": 28,
   "metadata": {},
   "outputs": [
    {
     "data": {
      "image/png": "[encoded data removed]",
      "text/plain": [
       "<Figure size 432x288 with 1 Axes>"
      ]
     },
     "metadata": {
      "needs_background": "light"
     },
     "output_type": "display_data"
    }
   ],
   "source": [
    "# Generate a bar plot showing number of data points for each treatment regimen using pyplot\n",
    "# count.plot(kind=\"bar\")\n",
    "count = count.reset_index(drop=False)\n",
    "plt.bar(count[\"Drug Regimen\"],count[\"Data Points\"])\n",
    "plt.xticks(rotation=90)\n",
    "plt.title(\"Data Point Count by Regimen\")\n",
    "plt.xlabel(\"Drug Regimen\")\n",
    "plt.ylabel(\"Data Points\")\n",
    "plt.show()"
   ]
  },
  {
   "cell_type": "markdown",
   "metadata": {},
   "source": [
    "## Pie Plots"
   ]
  },
  {
   "cell_type": "code",
   "execution_count": 29,
   "metadata": {},
   "outputs": [],
   "source": [
    "gender = merged_df.drop_duplicates(\"Mouse ID\")\n",
    "gender = pd.DataFrame(gender.groupby(['Sex'])[\"Mouse ID\"].count())\n",
    "gender = gender[[\"Mouse ID\"]]"
   ]
  },
  {
   "cell_type": "code",
   "execution_count": 30,
   "metadata": {},
   "outputs": [
    {
     "data": {
      "text/plain": [
       "array([<matplotlib.axes._subplots.AxesSubplot object at 0x0000026473830AC8>],\n",
       "      dtype=object)"
      ]
     },
     "execution_count": 30,
     "metadata": {},
     "output_type": "execute_result"
    },
    {
     "data": {
      "image/png": "[encoded data removed]",
      "text/plain": [
       "<Figure size 360x360 with 1 Axes>"
      ]
     },
     "metadata": {},
     "output_type": "display_data"
    }
   ],
   "source": [
    "# Generate a pie plot showing the distribution of female versus male mice using pandas\n",
    "gender.plot.pie(subplots=True, figsize=(5,5))"
   ]
  },
  {
   "cell_type": "code",
   "execution_count": 31,
   "metadata": {},
   "outputs": [
    {
     "data": {
      "image/png": "[encoded data removed]",
      "text/plain": [
       "<Figure size 360x360 with 1 Axes>"
      ]
     },
     "metadata": {},
     "output_type": "display_data"
    }
   ],
   "source": [
    "# Generate a pie plot showing the distribution of female versus male mice using pyplot\n",
    "share = gender[\"Mouse ID\"]\n",
    "fig, ax = plt.subplots(figsize=(5,5))\n",
    "ax.pie(gender[\"Mouse ID\"], labels = gender.index.values.tolist(),autopct='%1.1f%%')\n",
    "plt.show()"
   ]
  },
  {
   "cell_type": "markdown",
   "metadata": {},
   "source": [
    "## Quartiles, outliers and boxplots"
   ]
  },
  {
   "cell_type": "code",
   "execution_count": 32,
   "metadata": {},
   "outputs": [],
   "source": [
    "merged_df_sorted = merged_df.sort_values(\"Timepoint\", ascending=False)\n",
    "merged_df_grouped_regimen = merged_df_sorted.groupby([\"Drug Regimen\",\"Mouse ID\"])\n",
    "quartile_df = merged_df_grouped_regimen.first()\n",
    "quartile_df = quartile_df.reset_index()\n",
    "#quartile_df"
   ]
  },
  {
   "cell_type": "markdown",
   "metadata": {},
   "source": [
    "#### CAPOMULIN"
   ]
  },
  {
   "cell_type": "code",
   "execution_count": 33,
   "metadata": {},
   "outputs": [
    {
     "name": "stdout",
     "output_type": "stream",
     "text": [
      "==========================================\n",
      "Low outlier(s) count: 0\n",
      "High outlier(s) count: 0\n",
      "==========================================\n"
     ]
    }
   ],
   "source": [
    "capomulin = quartile_df.loc[quartile_df[\"Drug Regimen\"] == \"Capomulin\"]\n",
    "\n",
    "Q1_cap = np.percentile(capomulin['Tumor Volume (mm3)'], 25)\n",
    "Q3_cap = np.percentile(capomulin['Tumor Volume (mm3)'], 75)\n",
    "IQR_cap = Q3_cap - Q1_cap\n",
    "upper_boundary_cap = Q3_cap + (1.5 * IQR_cap)\n",
    "lower_boundary_cap = Q1_cap - (1.5 * IQR_cap)\n",
    "\n",
    "low_outliers_cap = capomulin[capomulin['Tumor Volume (mm3)'] <= lower_boundary_cap]\n",
    "low_outliers_cap = low_outliers_cap['Tumor Volume (mm3)'].count()\n",
    "\n",
    "high_outliers_cap = capomulin[capomulin['Tumor Volume (mm3)'] >= upper_boundary_cap]\n",
    "high_outliers_cap = high_outliers_cap['Tumor Volume (mm3)'].count()\n",
    "\n",
    "print(\"==========================================\")\n",
    "print(\"Low outlier(s) count: %s\"%(low_outliers_cap))\n",
    "print(\"High outlier(s) count: %s\"%(high_outliers_cap))\n",
    "print(\"==========================================\")"
   ]
  },
  {
   "cell_type": "markdown",
   "metadata": {},
   "source": [
    "#### RAMICANE"
   ]
  },
  {
   "cell_type": "code",
   "execution_count": 34,
   "metadata": {},
   "outputs": [
    {
     "name": "stdout",
     "output_type": "stream",
     "text": [
      "==========================================\n",
      "Low outlier(s) count: 0\n",
      "High outlier(s) count: 0\n",
      "==========================================\n"
     ]
    }
   ],
   "source": [
    "ramicane = quartile_df.loc[quartile_df[\"Drug Regimen\"] == \"Ramicane\"]\n",
    "\n",
    "Q1_ram = np.percentile(ramicane['Tumor Volume (mm3)'], 25)\n",
    "Q3_ram = np.percentile(ramicane['Tumor Volume (mm3)'], 75)\n",
    "IQR_ram = Q3_ram - Q1_ram\n",
    "upper_boundary_ram = Q3_ram + (1.5 * IQR_ram)\n",
    "lower_boundary_ram = Q1_ram - (1.5 * IQR_ram)\n",
    "\n",
    "low_outliers_ram = ramicane[ramicane['Tumor Volume (mm3)'] <= lower_boundary_ram]\n",
    "low_outliers_ram = low_outliers_ram['Tumor Volume (mm3)'].count()\n",
    "\n",
    "high_outliers_ram = ramicane[ramicane['Tumor Volume (mm3)'] >= upper_boundary_ram]\n",
    "high_outliers_ram = high_outliers_ram['Tumor Volume (mm3)'].count()\n",
    "\n",
    "print(\"==========================================\")\n",
    "print(\"Low outlier(s) count: %s\"%(low_outliers_ram))\n",
    "print(\"High outlier(s) count: %s\"%(high_outliers_ram))\n",
    "print(\"==========================================\")"
   ]
  },
  {
   "cell_type": "markdown",
   "metadata": {},
   "source": [
    "#### INFUBINOL"
   ]
  },
  {
   "cell_type": "code",
   "execution_count": 35,
   "metadata": {},
   "outputs": [
    {
     "name": "stdout",
     "output_type": "stream",
     "text": [
      "==========================================\n",
      "Low outlier(s) count: 1\n",
      "High outlier(s) count: 0\n",
      "==========================================\n"
     ]
    }
   ],
   "source": [
    "infubinol = quartile_df.loc[quartile_df[\"Drug Regimen\"] == \"Infubinol\"]\n",
    "\n",
    "Q1_inf = np.percentile(infubinol['Tumor Volume (mm3)'], 25)\n",
    "Q3_inf = np.percentile(infubinol['Tumor Volume (mm3)'], 75)\n",
    "IQR_inf = Q3_inf - Q1_inf\n",
    "upper_boundary_inf = Q3_inf + (1.5 * IQR_inf)\n",
    "lower_boundary_inf = Q1_inf - (1.5 * IQR_inf)\n",
    "\n",
    "low_outliers_inf = infubinol[infubinol['Tumor Volume (mm3)'] <= lower_boundary_inf]\n",
    "low_outliers_inf = low_outliers_inf['Tumor Volume (mm3)'].count()\n",
    "\n",
    "high_outliers_inf = infubinol[infubinol['Tumor Volume (mm3)'] >= upper_boundary_inf]\n",
    "high_outliers_inf = high_outliers_inf['Tumor Volume (mm3)'].count()\n",
    "\n",
    "print(\"==========================================\")\n",
    "print(\"Low outlier(s) count: %s\"%(low_outliers_inf))\n",
    "print(\"High outlier(s) count: %s\"%(high_outliers_inf))\n",
    "print(\"==========================================\")"
   ]
  },
  {
   "cell_type": "markdown",
   "metadata": {},
   "source": [
    "#### CEFTAMIN"
   ]
  },
  {
   "cell_type": "code",
   "execution_count": 36,
   "metadata": {},
   "outputs": [
    {
     "name": "stdout",
     "output_type": "stream",
     "text": [
      "==========================================\n",
      "Low outlier(s) count: 0\n",
      "High outlier(s) count: 0\n",
      "==========================================\n"
     ]
    }
   ],
   "source": [
    "ceftamin = quartile_df.loc[quartile_df[\"Drug Regimen\"] == \"Ceftamin\"]\n",
    "\n",
    "Q1_cef = np.percentile(ceftamin['Tumor Volume (mm3)'], 25)\n",
    "Q3_cef = np.percentile(ceftamin['Tumor Volume (mm3)'], 75)\n",
    "IQR_cef = Q3_cef - Q1_cef\n",
    "upper_boundary_cef = Q3_cef + (1.5 * IQR_cef)\n",
    "lower_boundary_cef = Q1_cef - (1.5 * IQR_cef)\n",
    "\n",
    "low_outliers_cef = ceftamin[ceftamin['Tumor Volume (mm3)'] <= lower_boundary_cef]\n",
    "low_outliers_cef = low_outliers_cef['Tumor Volume (mm3)'].count()\n",
    "\n",
    "high_outliers_cef = ceftamin[ceftamin['Tumor Volume (mm3)'] >= upper_boundary_cef]\n",
    "high_outliers_cef = high_outliers_cef['Tumor Volume (mm3)'].count()\n",
    "\n",
    "print(\"==========================================\")\n",
    "print(\"Low outlier(s) count: %s\"%(low_outliers_cef))\n",
    "print(\"High outlier(s) count: %s\"%(high_outliers_cef))\n",
    "print(\"==========================================\")"
   ]
  },
  {
   "cell_type": "code",
   "execution_count": 37,
   "metadata": {},
   "outputs": [
    {
     "data": {
      "text/plain": [
       "[Text(0, 0, 'Capomulin'),\n",
       " Text(0, 0, 'Ramicane'),\n",
       " Text(0, 0, 'Infubinol'),\n",
       " Text(0, 0, 'Ceftamin')]"
      ]
     },
     "execution_count": 37,
     "metadata": {},
     "output_type": "execute_result"
    },
    {
     "data": {
      "image/png": "[encoded data removed]",
      "text/plain": [
       "<Figure size 432x288 with 1 Axes>"
      ]
     },
     "metadata": {
      "needs_background": "light"
     },
     "output_type": "display_data"
    }
   ],
   "source": [
    "# Generate a box plot of the final tumor volume of each mouse across four regimens of interest\n",
    "boxplot = merged_df.sort_values(\"Timepoint\", ascending=False)\n",
    "boxplot = boxplot.groupby([\"Drug Regimen\",\"Mouse ID\"])\n",
    "boxplot = boxplot.first()\n",
    "\n",
    "data = {\"Capomulin\":boxplot.loc[\"Capomulin\",\"Tumor Volume (mm3)\"],\n",
    "        \"Ramicane\":boxplot.loc[\"Ramicane\",\"Tumor Volume (mm3)\"],\n",
    "        \"Infubinol\":boxplot.loc[\"Infubinol\",\"Tumor Volume (mm3)\"],\n",
    "        \"Ceftamin\":boxplot.loc[\"Ceftamin\",\"Tumor Volume (mm3)\"],}\n",
    "\n",
    "fig, ax = plt.subplots()\n",
    "ax.boxplot(data.values(), showfliers = True, patch_artist = True, notch = True,\n",
    "          boxprops = dict(facecolor = \"orange\", color = \"black\"),\n",
    "          capprops = dict(color = \"black\"),\n",
    "          whiskerprops = dict(color = \"black\"),\n",
    "          flierprops = dict(marker = \"*\", markeredgecolor = \"black\", markerfacecolor = \"yellow\", markersize=15),\n",
    "          medianprops = dict(color = \"black\")\n",
    "          )\n",
    "ax.yaxis.grid(True, linestyle='-', which='major', color='lightgrey', alpha=0.5)\n",
    "#fig.subplots_adjust(left=0.075, right=0.95, top=0.9, bottom=0.25)\n",
    "ax.set_title('Tumor Volume by Drug Regimen')\n",
    "ax.set_xticklabels(data.keys())"
   ]
  },
  {
   "cell_type": "markdown",
   "metadata": {},
   "source": [
    "## Line and scatter plots"
   ]
  },
  {
   "cell_type": "code",
   "execution_count": 38,
   "metadata": {},
   "outputs": [
    {
     "data": {
      "image/png": "[encoded data removed]",
      "text/plain": [
       "<Figure size 432x288 with 1 Axes>"
      ]
     },
     "metadata": {
      "needs_background": "light"
     },
     "output_type": "display_data"
    }
   ],
   "source": [
    "# Generate a line plot of time point versus tumor volume for a mouse treated with Capomulin\n",
    "capomulin_line =merged_df.loc[(merged_df[\"Drug Regimen\"] == \"Capomulin\") & \n",
    "                              (merged_df[\"Mouse ID\"] == \"s185\"),\n",
    "                              [\"Timepoint\",\"Tumor Volume (mm3)\"]\n",
    "                             ]\n",
    "\n",
    "x_axis = capomulin_line['Timepoint']\n",
    "y_axis = capomulin_line['Tumor Volume (mm3)']\n",
    "\n",
    "plt.plot(x_axis, y_axis)\n",
    "plt.title(\"Tumor Volume Over Time (test subject s185)\")\n",
    "plt.xlabel(\"Timepoint\")\n",
    "plt.ylabel(\"Tumor Volume (mm3)\")\n",
    "plt.show()\n",
    "#capomulin_line"
   ]
  },
  {
   "cell_type": "code",
   "execution_count": 41,
   "metadata": {},
   "outputs": [
    {
     "data": {
      "image/png": "[encoded data removed]",
      "text/plain": [
       "<Figure size 432x288 with 1 Axes>"
      ]
     },
     "metadata": {
      "needs_background": "light"
     },
     "output_type": "display_data"
    }
   ],
   "source": [
    "# Generate a scatter plot of mouse weight versus average tumor volume for the Capomulin regimen\n",
    "capomulin_scatter = merged_df.loc[merged_df[\"Drug Regimen\"]==\"Capomulin\",[\"Weight (g)\",\"Tumor Volume (mm3)\"]]\n",
    "capomulin_scatter = capomulin_scatter.groupby(\"Weight (g)\").mean()\n",
    "\n",
    "plt.scatter(capomulin_scatter.index.values, capomulin_scatter[\"Tumor Volume (mm3)\"], \n",
    "            marker=\"o\", \n",
    "            facecolors=\"black\", \n",
    "            edgecolors=\"black\"\n",
    "           )\n",
    "plt.title(\"Mouse Weight vs Average Tumor Volume\")\n",
    "plt.xlabel(\"Weight (g)\")\n",
    "plt.ylabel(\"Avg Tumor Volume (mm3)\")\n",
    "plt.show()"
   ]
  },
  {
   "cell_type": "code",
   "execution_count": 42,
   "metadata": {},
   "outputs": [
    {
     "name": "stdout",
     "output_type": "stream",
     "text": [
      "The correlation coefficient is: 0.894772609734063\n"
     ]
    },
    {
     "data": {
      "image/png": "[encoded data removed]",
      "text/plain": [
       "<Figure size 432x288 with 1 Axes>"
      ]
     },
     "metadata": {
      "needs_background": "light"
     },
     "output_type": "display_data"
    }
   ],
   "source": [
    "# Calculate the correlation coefficient and linear regression model for mouse weight and average tumor volume for the Capomulin regimen\n",
    "(slope, intercept, rvalue, pvalue, stderr) = linregress(capomulin_scatter.index.values, capomulin_scatter[\"Tumor Volume (mm3)\"])\n",
    "regress_values = capomulin_scatter.index.values * slope + intercept\n",
    "line_eq = \"y = \" + str(round(slope,2)) + \"x + \" + str(round(intercept,2))\n",
    "\n",
    "plt.scatter(capomulin_scatter.index.values, capomulin_scatter[\"Tumor Volume (mm3)\"], \n",
    "            marker=\"o\", \n",
    "            facecolors=\"black\", \n",
    "            edgecolors=\"black\"\n",
    "           )\n",
    "plt.plot(capomulin_scatter.index.values,\n",
    "         regress_values,\n",
    "         \"r-\",\n",
    "         color = \"firebrick\"\n",
    "        )\n",
    "plt.annotate(line_eq,(20,37),\n",
    "             fontsize=15,\n",
    "             color=\"firebrick\"\n",
    "            )\n",
    "plt.title(\"Mouse Weight vs Average Tumor Volume\")\n",
    "plt.xlabel(\"Weight (g)\")\n",
    "plt.ylabel(\"Avg Tumor Volume (mm3)\")\n",
    "print(f\"The correlation coefficient is: {slope}\")\n",
    "plt.show()"
   ]
  },
  {
   "cell_type": "code",
   "execution_count": null,
   "metadata": {},
   "outputs": [],
   "source": []
  }
 ],
 "metadata": {
  "kernelspec": {
   "display_name": "Python 3",
   "language": "python",
   "name": "python3"
  },
  "language_info": {
   "codemirror_mode": {
    "name": "ipython",
    "version": 3
   },
   "file_extension": ".py",
   "mimetype": "text/x-python",
   "name": "python",
   "nbconvert_exporter": "python",
   "pygments_lexer": "ipython3",
   "version": "3.7.4"
  }
 },
 "nbformat": 4,
 "nbformat_minor": 2
}
