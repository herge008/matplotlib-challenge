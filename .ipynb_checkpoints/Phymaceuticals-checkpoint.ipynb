{
 "cells": [
  {
   "cell_type": "markdown",
   "metadata": {},
   "source": [
    "## Observations and Insights"
   ]
  },
  {
   "cell_type": "markdown",
   "metadata": {},
   "source": [
    "* Comment"
   ]
  },
  {
   "cell_type": "markdown",
   "metadata": {},
   "source": [
    "## Dependencies and starter code"
   ]
  },
  {
   "cell_type": "code",
   "execution_count": 415,
   "metadata": {},
   "outputs": [],
   "source": [
    "import matplotlib.pyplot as plt\n",
    "import pandas as pd\n",
    "import numpy as np\n",
    "import scipy.stats as st\n",
    "\n",
    "# Study data files\n",
    "mouse = \"C:/Users/Laptop/Desktop/GT-ATL-DATA-PT-12-2019-U-C/Homework/05-Matplotlib/Instructions/Pymaceuticals/data/Mouse_metadata.csv\"\n",
    "results = \"C:/Users/Laptop/Desktop/GT-ATL-DATA-PT-12-2019-U-C/Homework/05-Matplotlib/Instructions/Pymaceuticals/data/Study_results.csv\"\n",
    "\n",
    "# Read the mouse data and the study results\n",
    "mouse_df = pd.read_csv(mouse)\n",
    "results_df = pd.read_csv(results)"
   ]
  },
  {
   "cell_type": "code",
   "execution_count": 416,
   "metadata": {},
   "outputs": [],
   "source": [
    "#mouse_df.head()"
   ]
  },
  {
   "cell_type": "code",
   "execution_count": 417,
   "metadata": {},
   "outputs": [],
   "source": [
    "#results_df.head()"
   ]
  },
  {
   "cell_type": "code",
   "execution_count": 418,
   "metadata": {},
   "outputs": [
    {
     "data": {
      "text/html": [
       "<div>\n",
       "<style scoped>\n",
       "    .dataframe tbody tr th:only-of-type {\n",
       "        vertical-align: middle;\n",
       "    }\n",
       "\n",
       "    .dataframe tbody tr th {\n",
       "        vertical-align: top;\n",
       "    }\n",
       "\n",
       "    .dataframe thead th {\n",
       "        text-align: right;\n",
       "    }\n",
       "</style>\n",
       "<table border=\"1\" class=\"dataframe\">\n",
       "  <thead>\n",
       "    <tr style=\"text-align: right;\">\n",
       "      <th></th>\n",
       "      <th>Mouse ID</th>\n",
       "      <th>Drug Regimen</th>\n",
       "      <th>Sex</th>\n",
       "      <th>Age_months</th>\n",
       "      <th>Weight (g)</th>\n",
       "      <th>Timepoint</th>\n",
       "      <th>Tumor Volume (mm3)</th>\n",
       "      <th>Metastatic Sites</th>\n",
       "    </tr>\n",
       "  </thead>\n",
       "  <tbody>\n",
       "    <tr>\n",
       "      <td>0</td>\n",
       "      <td>k403</td>\n",
       "      <td>Ramicane</td>\n",
       "      <td>Male</td>\n",
       "      <td>21</td>\n",
       "      <td>16</td>\n",
       "      <td>0</td>\n",
       "      <td>45.000000</td>\n",
       "      <td>0</td>\n",
       "    </tr>\n",
       "    <tr>\n",
       "      <td>1</td>\n",
       "      <td>k403</td>\n",
       "      <td>Ramicane</td>\n",
       "      <td>Male</td>\n",
       "      <td>21</td>\n",
       "      <td>16</td>\n",
       "      <td>5</td>\n",
       "      <td>38.825898</td>\n",
       "      <td>0</td>\n",
       "    </tr>\n",
       "    <tr>\n",
       "      <td>2</td>\n",
       "      <td>k403</td>\n",
       "      <td>Ramicane</td>\n",
       "      <td>Male</td>\n",
       "      <td>21</td>\n",
       "      <td>16</td>\n",
       "      <td>10</td>\n",
       "      <td>35.014271</td>\n",
       "      <td>1</td>\n",
       "    </tr>\n",
       "    <tr>\n",
       "      <td>3</td>\n",
       "      <td>k403</td>\n",
       "      <td>Ramicane</td>\n",
       "      <td>Male</td>\n",
       "      <td>21</td>\n",
       "      <td>16</td>\n",
       "      <td>15</td>\n",
       "      <td>34.223992</td>\n",
       "      <td>1</td>\n",
       "    </tr>\n",
       "    <tr>\n",
       "      <td>4</td>\n",
       "      <td>k403</td>\n",
       "      <td>Ramicane</td>\n",
       "      <td>Male</td>\n",
       "      <td>21</td>\n",
       "      <td>16</td>\n",
       "      <td>20</td>\n",
       "      <td>32.997729</td>\n",
       "      <td>1</td>\n",
       "    </tr>\n",
       "  </tbody>\n",
       "</table>\n",
       "</div>"
      ],
      "text/plain": [
       "  Mouse ID Drug Regimen   Sex  Age_months  Weight (g)  Timepoint  \\\n",
       "0     k403     Ramicane  Male          21          16          0   \n",
       "1     k403     Ramicane  Male          21          16          5   \n",
       "2     k403     Ramicane  Male          21          16         10   \n",
       "3     k403     Ramicane  Male          21          16         15   \n",
       "4     k403     Ramicane  Male          21          16         20   \n",
       "\n",
       "   Tumor Volume (mm3)  Metastatic Sites  \n",
       "0           45.000000                 0  \n",
       "1           38.825898                 0  \n",
       "2           35.014271                 1  \n",
       "3           34.223992                 1  \n",
       "4           32.997729                 1  "
      ]
     },
     "execution_count": 418,
     "metadata": {},
     "output_type": "execute_result"
    }
   ],
   "source": [
    "# Combine the data into a single dataset\n",
    "merged_df = pd.merge(mouse_df, results_df, on=\"Mouse ID\")\n",
    "merged_df.head()"
   ]
  },
  {
   "cell_type": "markdown",
   "metadata": {},
   "source": [
    "## Summary Statistics\n",
    "* Summary statistics of Tumor Volume (mm3) by Drug Regimen"
   ]
  },
  {
   "cell_type": "code",
   "execution_count": 419,
   "metadata": {},
   "outputs": [
    {
     "data": {
      "text/html": [
       "<div>\n",
       "<style scoped>\n",
       "    .dataframe tbody tr th:only-of-type {\n",
       "        vertical-align: middle;\n",
       "    }\n",
       "\n",
       "    .dataframe tbody tr th {\n",
       "        vertical-align: top;\n",
       "    }\n",
       "\n",
       "    .dataframe thead th {\n",
       "        text-align: right;\n",
       "    }\n",
       "</style>\n",
       "<table border=\"1\" class=\"dataframe\">\n",
       "  <thead>\n",
       "    <tr style=\"text-align: right;\">\n",
       "      <th></th>\n",
       "      <th>mean</th>\n",
       "      <th>median</th>\n",
       "      <th>var</th>\n",
       "      <th>std</th>\n",
       "      <th>sem</th>\n",
       "    </tr>\n",
       "    <tr>\n",
       "      <th>Drug Regimen</th>\n",
       "      <th></th>\n",
       "      <th></th>\n",
       "      <th></th>\n",
       "      <th></th>\n",
       "      <th></th>\n",
       "    </tr>\n",
       "  </thead>\n",
       "  <tbody>\n",
       "    <tr>\n",
       "      <td>Capomulin</td>\n",
       "      <td>40.675741</td>\n",
       "      <td>41.557809</td>\n",
       "      <td>24.947764</td>\n",
       "      <td>4.994774</td>\n",
       "      <td>0.329346</td>\n",
       "    </tr>\n",
       "    <tr>\n",
       "      <td>Ceftamin</td>\n",
       "      <td>52.591172</td>\n",
       "      <td>51.776157</td>\n",
       "      <td>39.290177</td>\n",
       "      <td>6.268188</td>\n",
       "      <td>0.469821</td>\n",
       "    </tr>\n",
       "    <tr>\n",
       "      <td>Infubinol</td>\n",
       "      <td>52.884795</td>\n",
       "      <td>51.820584</td>\n",
       "      <td>43.128684</td>\n",
       "      <td>6.567243</td>\n",
       "      <td>0.492236</td>\n",
       "    </tr>\n",
       "    <tr>\n",
       "      <td>Ketapril</td>\n",
       "      <td>55.235638</td>\n",
       "      <td>53.698743</td>\n",
       "      <td>68.553577</td>\n",
       "      <td>8.279709</td>\n",
       "      <td>0.603860</td>\n",
       "    </tr>\n",
       "    <tr>\n",
       "      <td>Naftisol</td>\n",
       "      <td>54.331565</td>\n",
       "      <td>52.509285</td>\n",
       "      <td>66.173479</td>\n",
       "      <td>8.134708</td>\n",
       "      <td>0.596466</td>\n",
       "    </tr>\n",
       "    <tr>\n",
       "      <td>Placebo</td>\n",
       "      <td>54.033581</td>\n",
       "      <td>52.288934</td>\n",
       "      <td>61.168083</td>\n",
       "      <td>7.821003</td>\n",
       "      <td>0.581331</td>\n",
       "    </tr>\n",
       "    <tr>\n",
       "      <td>Propriva</td>\n",
       "      <td>52.322552</td>\n",
       "      <td>50.854632</td>\n",
       "      <td>42.351070</td>\n",
       "      <td>6.507770</td>\n",
       "      <td>0.512884</td>\n",
       "    </tr>\n",
       "    <tr>\n",
       "      <td>Ramicane</td>\n",
       "      <td>40.216745</td>\n",
       "      <td>40.673236</td>\n",
       "      <td>23.486704</td>\n",
       "      <td>4.846308</td>\n",
       "      <td>0.320955</td>\n",
       "    </tr>\n",
       "    <tr>\n",
       "      <td>Stelasyn</td>\n",
       "      <td>54.233149</td>\n",
       "      <td>52.431737</td>\n",
       "      <td>59.450562</td>\n",
       "      <td>7.710419</td>\n",
       "      <td>0.573111</td>\n",
       "    </tr>\n",
       "    <tr>\n",
       "      <td>Zoniferol</td>\n",
       "      <td>53.236507</td>\n",
       "      <td>51.818479</td>\n",
       "      <td>48.533355</td>\n",
       "      <td>6.966589</td>\n",
       "      <td>0.516398</td>\n",
       "    </tr>\n",
       "  </tbody>\n",
       "</table>\n",
       "</div>"
      ],
      "text/plain": [
       "                   mean     median        var       std       sem\n",
       "Drug Regimen                                                     \n",
       "Capomulin     40.675741  41.557809  24.947764  4.994774  0.329346\n",
       "Ceftamin      52.591172  51.776157  39.290177  6.268188  0.469821\n",
       "Infubinol     52.884795  51.820584  43.128684  6.567243  0.492236\n",
       "Ketapril      55.235638  53.698743  68.553577  8.279709  0.603860\n",
       "Naftisol      54.331565  52.509285  66.173479  8.134708  0.596466\n",
       "Placebo       54.033581  52.288934  61.168083  7.821003  0.581331\n",
       "Propriva      52.322552  50.854632  42.351070  6.507770  0.512884\n",
       "Ramicane      40.216745  40.673236  23.486704  4.846308  0.320955\n",
       "Stelasyn      54.233149  52.431737  59.450562  7.710419  0.573111\n",
       "Zoniferol     53.236507  51.818479  48.533355  6.966589  0.516398"
      ]
     },
     "execution_count": 419,
     "metadata": {},
     "output_type": "execute_result"
    }
   ],
   "source": [
    "summary = pd.DataFrame(merged_df.groupby(['Drug Regimen'])[\"Tumor Volume (mm3)\"].agg(['mean', 'median', 'var', 'std', 'sem']))\n",
    "summary"
   ]
  },
  {
   "cell_type": "code",
   "execution_count": 420,
   "metadata": {},
   "outputs": [],
   "source": [
    "# Generate a summary statistics table of mean, median, variance, standard deviation, and SEM of the tumor volume for each regimen\n",
    "\n",
    "# mean = pd.DataFrame(merged_df.groupby(['Drug Regimen'])[\"Tumor Volume (mm3)\"].mean())\n",
    "# mean = mean.rename(columns={\"Tumor Volume (mm3)\":\" Mean Tumor Volume\"})\n",
    "\n",
    "# median = pd.DataFrame(merged_df.groupby(['Drug Regimen'])[\"Tumor Volume (mm3)\"].median())\n",
    "# median = median.rename(columns={\"Tumor Volume (mm3)\":\" Median Tumor Volume\"})\n",
    "\n",
    "# var = pd.DataFrame(merged_df.groupby(['Drug Regimen'])[\"Tumor Volume (mm3)\"].var())\n",
    "# var = var.rename(columns={\"Tumor Volume (mm3)\":\" Variance Tumor Volume\"})\n",
    "\n",
    "# stdev = pd.DataFrame(merged_df.groupby(['Drug Regimen'])[\"Tumor Volume (mm3)\"].std())\n",
    "# stdev = stdev.rename(columns={\"Tumor Volume (mm3)\":\" StDev Tumor Volume\"})\n",
    "\n",
    "# sem = pd.DataFrame(merged_df.groupby(['Drug Regimen'])[\"Tumor Volume (mm3)\"].sem())\n",
    "# sem = sem.rename(columns={\"Tumor Volume (mm3)\":\" SEM Tumor Volume\"})\n",
    "\n",
    "# stat_merge = pd.merge(mean, median, on=\"Drug Regimen\")\n",
    "# stat_merge = pd.merge(stat_merge, var, on=\"Drug Regimen\")\n",
    "# stat_merge = pd.merge(stat_merge, stdev, on=\"Drug Regimen\")\n",
    "# stat_merge = pd.merge(stat_merge, sem, on=\"Drug Regimen\")\n",
    "# stat_merge"
   ]
  },
  {
   "cell_type": "markdown",
   "metadata": {},
   "source": [
    "## Bar Plots"
   ]
  },
  {
   "cell_type": "code",
   "execution_count": 421,
   "metadata": {},
   "outputs": [],
   "source": [
    "count = pd.DataFrame(merged_df.groupby(['Drug Regimen'])[\"Mouse ID\"].count())\n",
    "count = count[[\"Mouse ID\"]]"
   ]
  },
  {
   "cell_type": "code",
   "execution_count": 422,
   "metadata": {},
   "outputs": [
    {
     "data": {
      "text/plain": [
       "<matplotlib.axes._subplots.AxesSubplot at 0x1b360cbf988>"
      ]
     },
     "execution_count": 422,
     "metadata": {},
     "output_type": "execute_result"
    },
    {
     "data": {
      "image/png": "[encoded data removed]",
      "text/plain": [
       "<Figure size 432x288 with 1 Axes>"
      ]
     },
     "metadata": {
      "needs_background": "light"
     },
     "output_type": "display_data"
    }
   ],
   "source": [
    "# Generate a bar plot showing number of data points for each treatment regimen using pandas\n",
    "count.plot.bar()"
   ]
  },
  {
   "cell_type": "code",
   "execution_count": 423,
   "metadata": {},
   "outputs": [
    {
     "data": {
      "image/png": "[encoded data removed]",
      "text/plain": [
       "<Figure size 432x288 with 1 Axes>"
      ]
     },
     "metadata": {
      "needs_background": "light"
     },
     "output_type": "display_data"
    }
   ],
   "source": [
    "# Generate a bar plot showing number of data points for each treatment regimen using pyplot\n",
    "count.plot(kind=\"bar\")\n",
    "plt.title(\"Count by Regimen\")\n",
    "plt.show()"
   ]
  },
  {
   "cell_type": "markdown",
   "metadata": {},
   "source": [
    "## Pie Plots"
   ]
  },
  {
   "cell_type": "code",
   "execution_count": 424,
   "metadata": {},
   "outputs": [],
   "source": [
    "gender = pd.DataFrame(merged_df.groupby(['Sex'])[\"Mouse ID\"].count())\n",
    "gender = gender[[\"Mouse ID\"]]"
   ]
  },
  {
   "cell_type": "code",
   "execution_count": 425,
   "metadata": {},
   "outputs": [
    {
     "data": {
      "text/plain": [
       "array([<matplotlib.axes._subplots.AxesSubplot object at 0x000001B360E9F408>],\n",
       "      dtype=object)"
      ]
     },
     "execution_count": 425,
     "metadata": {},
     "output_type": "execute_result"
    },
    {
     "data": {
      "image/png": "[encoded data removed]",
      "text/plain": [
       "<Figure size 432x288 with 1 Axes>"
      ]
     },
     "metadata": {},
     "output_type": "display_data"
    }
   ],
   "source": [
    "# Generate a pie plot showing the distribution of female versus male mice using pandas\n",
    "gender.plot.pie(subplots=True)"
   ]
  },
  {
   "cell_type": "code",
   "execution_count": 426,
   "metadata": {},
   "outputs": [
    {
     "data": {
      "image/png": "[encoded data removed]",
      "text/plain": [
       "<Figure size 432x288 with 1 Axes>"
      ]
     },
     "metadata": {},
     "output_type": "display_data"
    }
   ],
   "source": [
    "# Generate a pie plot showing the distribution of female versus male mice using pyplot\n",
    "gender.plot(kind=\"pie\",subplots=True)\n",
    "plt.title(\"Trial Count by Gender\")\n",
    "plt.show()"
   ]
  },
  {
   "cell_type": "markdown",
   "metadata": {},
   "source": [
    "## Quartiles, outliers and boxplots"
   ]
  },
  {
   "cell_type": "code",
   "execution_count": 427,
   "metadata": {},
   "outputs": [
    {
     "data": {
      "text/html": [
       "<div>\n",
       "<style scoped>\n",
       "    .dataframe tbody tr th:only-of-type {\n",
       "        vertical-align: middle;\n",
       "    }\n",
       "\n",
       "    .dataframe tbody tr th {\n",
       "        vertical-align: top;\n",
       "    }\n",
       "\n",
       "    .dataframe thead th {\n",
       "        text-align: right;\n",
       "    }\n",
       "</style>\n",
       "<table border=\"1\" class=\"dataframe\">\n",
       "  <thead>\n",
       "    <tr style=\"text-align: right;\">\n",
       "      <th></th>\n",
       "      <th>Tumor Volume (mm3)</th>\n",
       "    </tr>\n",
       "    <tr>\n",
       "      <th>Drug Regimen</th>\n",
       "      <th></th>\n",
       "    </tr>\n",
       "  </thead>\n",
       "  <tbody>\n",
       "    <tr>\n",
       "      <td>Ramicane</td>\n",
       "      <td>9169.417875</td>\n",
       "    </tr>\n",
       "    <tr>\n",
       "      <td>Capomulin</td>\n",
       "      <td>9355.420462</td>\n",
       "    </tr>\n",
       "    <tr>\n",
       "      <td>Ceftamin</td>\n",
       "      <td>9361.228582</td>\n",
       "    </tr>\n",
       "    <tr>\n",
       "      <td>Infubinol</td>\n",
       "      <td>9413.493529</td>\n",
       "    </tr>\n",
       "  </tbody>\n",
       "</table>\n",
       "</div>"
      ],
      "text/plain": [
       "              Tumor Volume (mm3)\n",
       "Drug Regimen                    \n",
       "Ramicane             9169.417875\n",
       "Capomulin            9355.420462\n",
       "Ceftamin             9361.228582\n",
       "Infubinol            9413.493529"
      ]
     },
     "execution_count": 427,
     "metadata": {},
     "output_type": "execute_result"
    }
   ],
   "source": [
    "# Calculate the final tumor volume of each mouse across four of the most promising treatment regimens. Calculate the IQR and quantitatively determine if there are any potential outliers.\n",
    "tumorvol = pd.DataFrame(merged_df.groupby(['Drug Regimen'])[\"Tumor Volume (mm3)\"].sum())\n",
    "tumorvol = tumorvol.loc[[\"Capomulin\", \"Ramicane\", \"Infubinol\", \"Ceftamin\"], :]\n",
    "tumorvol = tumorvol.sort_values(\"Tumor Volume (mm3)\", ascending=True)\n",
    "tumorvol"
   ]
  },
  {
   "cell_type": "markdown",
   "metadata": {},
   "source": [
    "#### CAPOMULIN"
   ]
  },
  {
   "cell_type": "code",
   "execution_count": 428,
   "metadata": {},
   "outputs": [
    {
     "name": "stdout",
     "output_type": "stream",
     "text": [
      "==========================================\n",
      "Low outlier(s) count: 2\n",
      "High outlier(s) count: 0\n",
      "==========================================\n"
     ]
    }
   ],
   "source": [
    "capomulin = merged_df.loc[merged_df[\"Drug Regimen\"] == \"Capomulin\"]\n",
    "\n",
    "Q1_cap = np.percentile(capomulin['Tumor Volume (mm3)'], 25)\n",
    "Q2_cap = np.percentile(capomulin['Tumor Volume (mm3)'], 50)\n",
    "Q3_cap = np.percentile(capomulin['Tumor Volume (mm3)'], 75)\n",
    "IQR_cap = Q3_cap - Q1_cap\n",
    "upper_boundary_cap = Q3_cap + (1.5 * IQR_cap)\n",
    "lower_boundary_cap = Q1_cap - (1.5 * IQR_cap)\n",
    "\n",
    "low_outliers_cap = capomulin[capomulin['Tumor Volume (mm3)'] <= lower_boundary_cap]\n",
    "low_outliers_cap = low_outliers_cap['Tumor Volume (mm3)'].count()\n",
    "\n",
    "high_outliers_cap = capomulin[capomulin['Tumor Volume (mm3)'] >= upper_boundary_cap]\n",
    "high_outliers_cap = high_outliers_cap['Tumor Volume (mm3)'].count()\n",
    "\n",
    "# print(\"==========================================\")\n",
    "# print(\"(Q1) Lower Quartile: %s\"%(Q1_cap))\n",
    "# print(\"(Q2) Median: %s\"%(Q2_cap))\n",
    "# print(\"(Q3) Upper Quartile: %s\"%(Q3_cap))\n",
    "# print(\"Interquartile Range: %s\"%(IQR_cap))\n",
    "# print(\"Upper Boundary: %s\"%(upper_boundary_cap))\n",
    "# print(\"Lower Boundary: %s\"%(lower_boundary_cap))\n",
    "print(\"==========================================\")\n",
    "print(\"Low outlier(s) count: %s\"%(low_outliers_cap))\n",
    "print(\"High outlier(s) count: %s\"%(high_outliers_cap))\n",
    "print(\"==========================================\")"
   ]
  },
  {
   "cell_type": "markdown",
   "metadata": {},
   "source": [
    "#### RAMICANE"
   ]
  },
  {
   "cell_type": "code",
   "execution_count": 429,
   "metadata": {},
   "outputs": [
    {
     "name": "stdout",
     "output_type": "stream",
     "text": [
      "==========================================\n",
      "Low outlier(s) count: 1\n",
      "High outlier(s) count: 0\n",
      "==========================================\n"
     ]
    }
   ],
   "source": [
    "ramicane = merged_df.loc[merged_df[\"Drug Regimen\"] == \"Ramicane\"]\n",
    "Q1_ram = np.percentile(ramicane['Tumor Volume (mm3)'], 25)\n",
    "Q2_ram = np.percentile(ramicane['Tumor Volume (mm3)'], 50)\n",
    "Q3_ram = np.percentile(ramicane['Tumor Volume (mm3)'], 75)\n",
    "IQR_ram = Q3_ram - Q1_ram\n",
    "upper_boundary_ram = Q3_ram + (1.5 * IQR_ram)\n",
    "lower_boundary_ram = Q1_ram - (1.5 * IQR_ram)\n",
    "\n",
    "low_outliers_ram = ramicane[ramicane['Tumor Volume (mm3)'] <= lower_boundary_ram]\n",
    "low_outliers_ram = low_outliers_ram['Tumor Volume (mm3)'].count()\n",
    "\n",
    "high_outliers_ram = ramicane[ramicane['Tumor Volume (mm3)'] >= upper_boundary_ram]\n",
    "high_outliers_ram = high_outliers_ram['Tumor Volume (mm3)'].count()\n",
    "\n",
    "# print(\"==========================================\")\n",
    "# print(\"(Q1) Lower Quartile: %s\"%(Q1_ram))\n",
    "# print(\"(Q2) Median: %s\"%(Q2_ram))\n",
    "# print(\"(Q3) Upper Quartile: %s\"%(Q3_ram))\n",
    "# print(\"Interquartile Range: %s\"%(IQR_ram))\n",
    "# print(\"Upper Boundary: %s\"%(upper_boundary_ram))\n",
    "# print(\"Lower Boundary: %s\"%(lower_boundary_ram))\n",
    "print(\"==========================================\")\n",
    "print(\"Low outlier(s) count: %s\"%(low_outliers_ram))\n",
    "print(\"High outlier(s) count: %s\"%(high_outliers_ram))\n",
    "print(\"==========================================\")"
   ]
  },
  {
   "cell_type": "markdown",
   "metadata": {},
   "source": [
    "#### INFUBINOL"
   ]
  },
  {
   "cell_type": "code",
   "execution_count": 430,
   "metadata": {},
   "outputs": [
    {
     "name": "stdout",
     "output_type": "stream",
     "text": [
      "==========================================\n",
      "Low outlier(s) count: 0\n",
      "High outlier(s) count: 0\n",
      "==========================================\n"
     ]
    }
   ],
   "source": [
    "infubinol = merged_df.loc[merged_df[\"Drug Regimen\"] == \"Infubinol\"]\n",
    "Q1_inf = np.percentile(infubinol['Tumor Volume (mm3)'], 25)\n",
    "Q2_inf = np.percentile(infubinol['Tumor Volume (mm3)'], 50)\n",
    "Q3_inf = np.percentile(infubinol['Tumor Volume (mm3)'], 75)\n",
    "IQR_inf = Q3_inf - Q1_inf\n",
    "upper_boundary_inf = Q3_inf + (1.5 * IQR_inf)\n",
    "lower_boundary_inf = Q1_inf - (1.5 * IQR_inf)\n",
    "\n",
    "low_outliers_inf = infubinol[infubinol['Tumor Volume (mm3)'] <= lower_boundary_inf]\n",
    "low_outliers_inf = low_outliers_inf['Tumor Volume (mm3)'].count()\n",
    "\n",
    "high_outliers_inf = infubinol[infubinol['Tumor Volume (mm3)'] >= upper_boundary_inf]\n",
    "high_outliers_inf = high_outliers_inf['Tumor Volume (mm3)'].count()\n",
    "\n",
    "# print(\"==========================================\")\n",
    "# print(\"(Q1) Lower Quartile: %s\"%(Q1_inf))\n",
    "# print(\"(Q2) Median: %s\"%(Q2_inf))\n",
    "# print(\"(Q3) Upper Quartile: %s\"%(Q3_inf))\n",
    "# print(\"Interquartile Range: %s\"%(IQR_inf))\n",
    "# print(\"Upper Boundary: %s\"%(upper_boundary_inf))\n",
    "# print(\"Lower Boundary: %s\"%(lower_boundary_inf))\n",
    "print(\"==========================================\")\n",
    "print(\"Low outlier(s) count: %s\"%(low_outliers_inf))\n",
    "print(\"High outlier(s) count: %s\"%(high_outliers_inf))\n",
    "print(\"==========================================\")"
   ]
  },
  {
   "cell_type": "markdown",
   "metadata": {},
   "source": [
    "#### CEFTAMIN"
   ]
  },
  {
   "cell_type": "code",
   "execution_count": 431,
   "metadata": {},
   "outputs": [
    {
     "name": "stdout",
     "output_type": "stream",
     "text": [
      "==========================================\n",
      "Low outlier(s) count: 0\n",
      "High outlier(s) count: 0\n",
      "==========================================\n"
     ]
    }
   ],
   "source": [
    "ceftamin = merged_df.loc[merged_df[\"Drug Regimen\"] == \"Ceftamin\"]\n",
    "Q1_cef = np.percentile(ceftamin['Tumor Volume (mm3)'], 25)\n",
    "Q2_cef = np.percentile(ceftamin['Tumor Volume (mm3)'], 50)\n",
    "Q3_cef = np.percentile(ceftamin['Tumor Volume (mm3)'], 75)\n",
    "IQR_cef = Q3_cef - Q1_cef\n",
    "upper_boundary_cef = Q3_cef + (1.5 * IQR_cef)\n",
    "lower_boundary_cef = Q1_cef - (1.5 * IQR_cef)\n",
    "\n",
    "low_outliers_cef = ceftamin[ceftamin['Tumor Volume (mm3)'] <= lower_boundary_cef]\n",
    "low_outliers_cef = low_outliers_cef['Tumor Volume (mm3)'].count()\n",
    "\n",
    "high_outliers_cef = ceftamin[ceftamin['Tumor Volume (mm3)'] >= upper_boundary_cef]\n",
    "high_outliers_cef = high_outliers_cef['Tumor Volume (mm3)'].count()\n",
    "\n",
    "# print(\"==========================================\")\n",
    "# print(\"(Q1) Lower Quartile: %s\"%(Q1_cef))\n",
    "# print(\"(Q2) Median: %s\"%(Q2_cef))\n",
    "# print(\"(Q3) Upper Quartile: %s\"%(Q3_cef))\n",
    "# print(\"Interquartile Range: %s\"%(IQR_cef))\n",
    "# print(\"Upper Boundary: %s\"%(upper_boundary_cef))\n",
    "# print(\"Lower Boundary: %s\"%(lower_boundary_cef))\n",
    "print(\"==========================================\")\n",
    "print(\"Low outlier(s) count: %s\"%(low_outliers_cef))\n",
    "print(\"High outlier(s) count: %s\"%(high_outliers_cef))\n",
    "print(\"==========================================\")"
   ]
  },
  {
   "cell_type": "code",
   "execution_count": 432,
   "metadata": {},
   "outputs": [
    {
     "data": {
      "image/png": "[encoded data removed]",
      "text/plain": [
       "<Figure size 432x288 with 1 Axes>"
      ]
     },
     "metadata": {
      "needs_background": "light"
     },
     "output_type": "display_data"
    }
   ],
   "source": [
    "# Generate a box plot of the final tumor volume of each mouse across four regimens of interest\n",
    "capomulin = merged_df.loc[merged_df[\"Drug Regimen\"] == \"Capomulin\"]\n",
    "cap_tumors = capomulin['Tumor Volume (mm3)']\n",
    "\n",
    "ramicane = merged_df.loc[merged_df[\"Drug Regimen\"] == \"Ramicane\"]\n",
    "ram_tumors = ramicane['Tumor Volume (mm3)']\n",
    "\n",
    "infubinol = merged_df.loc[merged_df[\"Drug Regimen\"] == \"Infubinol\"]\n",
    "inf_tumors = infubinol['Tumor Volume (mm3)']\n",
    "\n",
    "ceftamin = merged_df.loc[merged_df[\"Drug Regimen\"] == \"Ceftamin\"]\n",
    "cef_tumors = ceftamin['Tumor Volume (mm3)']\n",
    "\n",
    "data = [cap_tumors, ram_tumors, inf_tumors, cef_tumors]\n",
    "fig7, ax7 = plt.subplots()\n",
    "ax7.set_title('Tumor Volume by Drug Regimen')\n",
    "ax7.boxplot(data)\n",
    "plt.grid()\n",
    "plt.show()"
   ]
  },
  {
   "cell_type": "markdown",
   "metadata": {},
   "source": [
    "## Line and scatter plots"
   ]
  },
  {
   "cell_type": "code",
   "execution_count": 463,
   "metadata": {},
   "outputs": [
    {
     "data": {
      "image/png": "[encoded data removed]",
      "text/plain": [
       "<Figure size 432x288 with 1 Axes>"
      ]
     },
     "metadata": {
      "needs_background": "light"
     },
     "output_type": "display_data"
    }
   ],
   "source": [
    "# Generate a line plot of time point versus tumor volume for a mouse treated with Capomulin\n",
    "capomulin_line = capomulin.loc[:, [\"Mouse ID\",\"Timepoint\", \"Tumor Volume (mm3)\"]]\n",
    "capomulin_line = capomulin_line.loc[capomulin_line[\"Mouse ID\"] == \"s185\"]\n",
    "x_axis = capomulin_line['Tumor Volume (mm3)']\n",
    "y_axis = capomulin_line['Timepoint']\n",
    "\n",
    "plt.plot(x_axis, y_axis)\n",
    "plt.title(\"Tumor Volume Over Time (test subject s185)\")\n",
    "plt.xlabel(\"Timepoint\")\n",
    "plt.ylabel(\"Tumor Volume (mm3)\")\n",
    "plt.show()"
   ]
  },
  {
   "cell_type": "code",
   "execution_count": 435,
   "metadata": {},
   "outputs": [],
   "source": [
    "# Generate a scatter plot of mouse weight versus average tumor volume for the Capomulin regimen"
   ]
  },
  {
   "cell_type": "code",
   "execution_count": 436,
   "metadata": {},
   "outputs": [],
   "source": [
    "# Calculate the correlation coefficient and linear regression model for mouse weight and average tumor volume for the Capomulin regimen"
   ]
  },
  {
   "cell_type": "markdown",
   "metadata": {},
   "source": [
    "## ---------------------------------------------------------------------------------------------------------------------------\n",
    "## QUARTILES & OUTLIERS\n",
    "##### How to calculate quartiles and detect outliers"
   ]
  },
  {
   "cell_type": "code",
   "execution_count": 437,
   "metadata": {},
   "outputs": [],
   "source": [
    "# capomulin = merged_df.loc[merged_df[\"Drug Regimen\"] == \"Capomulin\"]\n",
    "\n",
    "# Q1_cap = np.percentile(capomulin['Tumor Volume (mm3)'], 25)\n",
    "# Q2_cap = np.percentile(capomulin['Tumor Volume (mm3)'], 50)\n",
    "# Q3_cap = np.percentile(capomulin['Tumor Volume (mm3)'], 75)\n",
    "# IQR_cap = Q3_cap - Q1_cap\n",
    "# upper_boundary_cap = Q3_cap + (1.5 * IQR_cap)\n",
    "# lower_boundary_cap = Q1_cap - (1.5 * IQR_cap)\n",
    "\n",
    "# low_outliers_cap = capomulin[capomulin['Tumor Volume (mm3)'] <= lower_boundary_cap]\n",
    "# low_outliers_cap = low_outliers_cap['Tumor Volume (mm3)'].count()\n",
    "\n",
    "# high_outliers_cap = capomulin[capomulin['Tumor Volume (mm3)'] >= upper_boundary_cap]\n",
    "# high_outliers_cap = high_outliers_cap['Tumor Volume (mm3)'].count()\n",
    "\n",
    "# print(\"==========================================\")\n",
    "# print(\"(Q1) Lower Quartile: %s\"%(Q1_cap))\n",
    "# print(\"(Q2) Median: %s\"%(Q2_cap))\n",
    "# print(\"(Q3) Upper Quartile: %s\"%(Q3_cap))\n",
    "# print(\"Interquartile Range: %s\"%(IQR_cap))\n",
    "# print(\"Upper Boundary: %s\"%(upper_boundary_cap))\n",
    "# print(\"Lower Boundary: %s\"%(lower_boundary_cap))\n",
    "# print(\"==========================================\")\n",
    "# print(\"Low outlier(s) count: %s\"%(low_outliers_cap))\n",
    "# print(\"High outlier(s) count: %s\"%(high_outliers_cap))\n",
    "# print(\"==========================================\")"
   ]
  },
  {
   "cell_type": "markdown",
   "metadata": {},
   "source": [
    "## ---------------------------------------------------------------------------------------------------------------------------\n",
    "## BOXPLOT\n",
    "##### How to create a single boxplot"
   ]
  },
  {
   "cell_type": "code",
   "execution_count": 438,
   "metadata": {},
   "outputs": [],
   "source": [
    "#infubinol = merged_df.loc[merged_df[\"Drug Regimen\"] == \"Infubinol\"]\n",
    "#inf_tumors = infubinol['Tumor Volume (mm3)']\n",
    "#fig1, ax1 = plt.subplots()\n",
    "#ax1.set_title('Infubinol')\n",
    "#ax1.set_ylabel('Tumor Volume (mm3)')\n",
    "#ax1.boxplot(inf_tumors)\n",
    "#plt.show()"
   ]
  }
 ],
 "metadata": {
  "kernelspec": {
   "display_name": "Python 3",
   "language": "python",
   "name": "python3"
  },
  "language_info": {
   "codemirror_mode": {
    "name": "ipython",
    "version": 3
   },
   "file_extension": ".py",
   "mimetype": "text/x-python",
   "name": "python",
   "nbconvert_exporter": "python",
   "pygments_lexer": "ipython3",
   "version": "3.7.4"
  }
 },
 "nbformat": 4,
 "nbformat_minor": 2
}
